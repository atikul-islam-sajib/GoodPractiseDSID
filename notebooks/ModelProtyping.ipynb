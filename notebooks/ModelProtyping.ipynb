{
 "cells": [
  {
   "cell_type": "code",
   "execution_count": 1,
   "metadata": {},
   "outputs": [
    {
     "name": "stdout",
     "output_type": "stream",
     "text": [
      "hello\n"
     ]
    }
   ],
   "source": [
    "print(\"hello\")"
   ]
  },
  {
   "cell_type": "code",
   "execution_count": null,
   "metadata": {},
   "outputs": [],
   "source": [
    "!git clone https://github.com/atikul-islam-sajib/GoodPractiseDSID.git\n",
    "\n",
    "%cd /content/GoodPractiseDSID/\n",
    "\n",
    "%pwd\n",
    "\n",
    "!python alzheimer/data/data_loader.py --dataset /content/dataset.zip\n",
    "\n",
    "\n",
    "from alzheimer.features.build_features import FeatureBuilder\n",
    "\n",
    "from alzheimer.data.data_loader import Dataloader\n",
    "\n",
    "loader = Dataloader(\"/content/dataset.zip\")\n",
    "\n",
    "loader.unzip_dataset()\n",
    "\n",
    "build_features = FeatureBuilder()\n",
    "build_features.build_feature()\n",
    "\n",
    "loader.extract_feature()\n",
    "\n",
    "import torch\n",
    "\n",
    "train_loader = torch.load(\"/content/GoodPractiseDSID/data/processed/train_loader.pth\")\n",
    "\n",
    "train = 0\n",
    "\n",
    "for data, label in train_loader:\n",
    "  train = train + data.shape[0]\n",
    "\n",
    "print(train)\n",
    "\n",
    "a = torch.load(\"/content/GoodPractiseDSID/data/processed/test_loader.pth\")\n",
    "len(a)\n",
    "\n",
    "test_loader = torch.load(\"/content/GoodPractiseDSID/data/processed/test_loader.pth\")\n",
    "\n",
    "test = 0\n",
    "\n",
    "for data, label in test_loader:\n",
    "  test = test + data.shape[0]\n",
    "\n",
    "print(test)\n",
    "\n",
    "train + test"
   ]
  },
  {
   "cell_type": "code",
   "execution_count": 2,
   "metadata": {},
   "outputs": [
    {
     "name": "stdout",
     "output_type": "stream",
     "text": [
      "check done\n"
     ]
    }
   ],
   "source": [
    "print(\"check done\")"
   ]
  },
  {
   "cell_type": "code",
   "execution_count": 4,
   "metadata": {},
   "outputs": [
    {
     "name": "stdout",
     "output_type": "stream",
     "text": [
      "/Users/shahmuhammadraditrahman/Desktop/GoodPractiseDSID\n"
     ]
    }
   ],
   "source": [
    "%cd /Users/shahmuhammadraditrahman/Desktop/GoodPractiseDSID/"
   ]
  },
  {
   "cell_type": "code",
   "execution_count": 6,
   "metadata": {},
   "outputs": [],
   "source": [
    "from alzheimer.data.data_loader import Dataloader"
   ]
  },
  {
   "cell_type": "code",
   "execution_count": 10,
   "metadata": {},
   "outputs": [
    {
     "data": {
      "text/plain": [
       "'cuda'"
      ]
     },
     "execution_count": 10,
     "metadata": {},
     "output_type": "execute_result"
    }
   ],
   "source": [
    "# For mac\n",
    "import torch\n",
    "\n",
    "'cuda' if torch.backends.mps.is_available() else 'cpu'"
   ]
  },
  {
   "cell_type": "code",
   "execution_count": 9,
   "metadata": {},
   "outputs": [
    {
     "data": {
      "text/plain": [
       "'cpu'"
      ]
     },
     "execution_count": 9,
     "metadata": {},
     "output_type": "execute_result"
    }
   ],
   "source": [
    "# For NVDIA\n",
    "\n",
    "\"cuda\" if torch.cuda.is_available() else \"cpu\""
   ]
  },
  {
   "cell_type": "code",
   "execution_count": 12,
   "metadata": {},
   "outputs": [
    {
     "name": "stdout",
     "output_type": "stream",
     "text": [
      "Using device: cuda\n"
     ]
    }
   ],
   "source": [
    "import torch\n",
    "\n",
    "device = torch.device(\"cuda\" if torch.backends.mps.is_available() else \"cpu\")\n",
    "\n",
    "print(f\"Using device: {device}\")"
   ]
  },
  {
   "cell_type": "code",
   "execution_count": 14,
   "metadata": {},
   "outputs": [
    {
     "name": "stdout",
     "output_type": "stream",
     "text": [
      "MPS available: True\n",
      "Using MPS device for computations\n"
     ]
    }
   ],
   "source": [
    "import torch\n",
    "\n",
    "# Check if MPS (Apple Silicon GPU support) is available\n",
    "mps_available = torch.backends.mps.is_available()\n",
    "\n",
    "# Print whether MPS is available or not\n",
    "print(\"MPS available:\", mps_available)\n",
    "# If MPS is available, set the device to MPS for GPU computations\n",
    "if mps_available:\n",
    "    device = torch.device(\"mps\")\n",
    "    print(\"Using MPS device for computations\")\n",
    "else:\n",
    "    device = torch.device(\"cpu\")\n",
    "    print(\"Using CPU for computations\")"
   ]
  },
  {
   "cell_type": "code",
   "execution_count": 15,
   "metadata": {},
   "outputs": [
    {
     "name": "stdout",
     "output_type": "stream",
     "text": [
      "/Users/shahmuhammadraditrahman/Desktop/GoodPractiseDSID/alzheimer/data/data_loader.py:133: UserWarning: To copy construct from a tensor, it is recommended to use sourceTensor.clone().detach() or sourceTensor.clone().detach().requires_grad_(True), rather than torch.tensor(sourceTensor).\n",
      "  y_test = torch.tensor(data=X_test, dtype=torch.long)\n"
     ]
    }
   ],
   "source": [
    "!python alzheimer/data/data_loader.py --dataset /Users/shahmuhammadraditrahman/Desktop/dataset.zip"
   ]
  },
  {
   "cell_type": "code",
   "execution_count": 2,
   "metadata": {},
   "outputs": [
    {
     "data": {
      "text/plain": [
       "(16, 3)"
      ]
     },
     "execution_count": 2,
     "metadata": {},
     "output_type": "execute_result"
    }
   ],
   "source": [
    "[(256, 128, 0.0), (128, 64, 0.4), (64, 16, 0.3), (16, 3)][-1]"
   ]
  },
  {
   "cell_type": "code",
   "execution_count": 6,
   "metadata": {},
   "outputs": [],
   "source": [
    "from alzheimer.models.model import Classifier"
   ]
  },
  {
   "cell_type": "code",
   "execution_count": 7,
   "metadata": {},
   "outputs": [
    {
     "name": "stdout",
     "output_type": "stream",
     "text": [
      "Classifier(\n",
      "  (left_conv): Sequential(\n",
      "    (left_conv_0): Conv2d(3, 32, kernel_size=(3, 3), stride=(1, 1), padding=(1, 1))\n",
      "    (left_conv_act_0): ReLU()\n",
      "    (left_max_pool_0): MaxPool2d(kernel_size=2, stride=2, padding=0, dilation=1, ceil_mode=False)\n",
      "    (left_dropout_0): Dropout(p=0.0, inplace=False)\n",
      "    (left_conv_1): Conv2d(32, 16, kernel_size=(3, 3), stride=(1, 1), padding=(1, 1))\n",
      "    (left_conv_act_1): ReLU()\n",
      "    (left_max_pool_1): MaxPool2d(kernel_size=2, stride=2, padding=0, dilation=1, ceil_mode=False)\n",
      "    (left_dropout_1): Dropout(p=0.5, inplace=False)\n",
      "    (left_conv_2): Conv2d(16, 8, kernel_size=(3, 3), stride=(1, 1), padding=(1, 1))\n",
      "    (left_conv_act_2): ReLU()\n",
      "    (left_max_pool_2): MaxPool2d(kernel_size=2, stride=2, padding=0, dilation=1, ceil_mode=False)\n",
      "    (left_dropout_2): Dropout(p=0.3, inplace=False)\n",
      "  )\n",
      "  (middle_conv): Sequential(\n",
      "    (middle_conv_0): Conv2d(3, 32, kernel_size=(4, 4), stride=(1, 1), padding=(1, 1))\n",
      "    (middle_conv_act_0): ReLU()\n",
      "    (middle_max_pool_0): MaxPool2d(kernel_size=2, stride=2, padding=0, dilation=1, ceil_mode=False)\n",
      "    (middle_dropout_0): Dropout(p=0.0, inplace=False)\n",
      "    (middle_conv_1): Conv2d(32, 16, kernel_size=(4, 4), stride=(1, 1), padding=(1, 1))\n",
      "    (middle_conv_act_1): ReLU()\n",
      "    (middle_max_pool_1): MaxPool2d(kernel_size=2, stride=2, padding=0, dilation=1, ceil_mode=False)\n",
      "    (middle_dropout_1): Dropout(p=0.4, inplace=False)\n",
      "    (middle_conv_2): Conv2d(16, 8, kernel_size=(4, 4), stride=(1, 1), padding=(1, 1))\n",
      "    (middle_conv_act_2): ReLU()\n",
      "    (middle_max_pool_2): MaxPool2d(kernel_size=2, stride=2, padding=0, dilation=1, ceil_mode=False)\n",
      "    (middle_dropout_2): Dropout(p=0.0, inplace=False)\n",
      "  )\n",
      "  (right_conv): Sequential(\n",
      "    (right_conv_0): Conv2d(3, 32, kernel_size=(5, 5), stride=(1, 1), padding=(1, 1))\n",
      "    (right_conv_act_0): ReLU()\n",
      "    (right_max_pool_0): MaxPool2d(kernel_size=2, stride=2, padding=0, dilation=1, ceil_mode=False)\n",
      "    (right_dropout_0): Dropout(p=0.0, inplace=False)\n",
      "    (right_conv_1): Conv2d(32, 16, kernel_size=(5, 5), stride=(1, 1), padding=(1, 1))\n",
      "    (right_conv_act_1): ReLU()\n",
      "    (right_max_pool_1): MaxPool2d(kernel_size=2, stride=2, padding=0, dilation=1, ceil_mode=False)\n",
      "    (right_dropout_1): Dropout(p=0.3, inplace=False)\n",
      "    (right_conv_2): Conv2d(16, 8, kernel_size=(5, 5), stride=(1, 1), padding=(1, 1))\n",
      "    (right_conv_act_2): ReLU()\n",
      "    (right_max_pool_2): MaxPool2d(kernel_size=2, stride=2, padding=0, dilation=1, ceil_mode=False)\n",
      "    (right_dropout_2): Dropout(p=0.3, inplace=False)\n",
      "  )\n",
      "  (combined_layer): Sequential(\n",
      "    (combined_combined_0): Linear(in_features=4720, out_features=256, bias=True)\n",
      "    (combined_combined_act_0): LeakyReLU(negative_slope=0.01, inplace=True)\n",
      "  )\n",
      "  (left_fc): Sequential(\n",
      "    (left_fc_0): Linear(in_features=256, out_features=128, bias=True)\n",
      "    (left_fc_act_0): ReLU()\n",
      "    (left_fc_drop_0): Dropout(p=0.0, inplace=False)\n",
      "    (left_fc_1): Linear(in_features=128, out_features=64, bias=True)\n",
      "    (left_fc_act_1): ReLU()\n",
      "    (left_fc_drop_1): Dropout(p=0.4, inplace=False)\n",
      "    (left_fc_2): Linear(in_features=64, out_features=16, bias=True)\n",
      "    (left_fc_act_2): ReLU()\n",
      "    (left_fc_drop_2): Dropout(p=0.3, inplace=False)\n",
      "    (left_fc_output): Linear(in_features=16, out_features=3, bias=True)\n",
      "    (left_fc_output_act): Softmax(dim=1)\n",
      "  )\n",
      "  (middle_fc): Sequential(\n",
      "    (middle_fc_0): Linear(in_features=256, out_features=64, bias=True)\n",
      "    (middle_fc_act_0): ReLU()\n",
      "    (middle_fc_drop_0): Dropout(p=0.4, inplace=False)\n",
      "    (middle_fc_1): Linear(in_features=64, out_features=32, bias=True)\n",
      "    (middle_fc_act_1): ReLU()\n",
      "    (middle_fc_drop_1): Dropout(p=0.4, inplace=False)\n",
      "    (middle_fc_output): Linear(in_features=32, out_features=3, bias=True)\n",
      "    (middle_fc_output_act): Softmax(dim=1)\n",
      "  )\n",
      "  (right_fc): Sequential(\n",
      "    (right_fc_0): Linear(in_features=256, out_features=32, bias=True)\n",
      "    (right_fc_act_0): ReLU()\n",
      "    (right_fc_drop_0): Dropout(p=0.4, inplace=False)\n",
      "    (right_fc_1): Linear(in_features=32, out_features=16, bias=True)\n",
      "    (right_fc_act_1): ReLU()\n",
      "    (right_fc_drop_1): Dropout(p=0.3, inplace=False)\n",
      "    (right_fc_output): Linear(in_features=16, out_features=3, bias=True)\n",
      "    (right_fc_output_act): Softmax(dim=1)\n",
      "  )\n",
      ")\n"
     ]
    }
   ],
   "source": [
    "clf = Classifier()\n",
    "\n",
    "print(clf)"
   ]
  },
  {
   "cell_type": "code",
   "execution_count": 8,
   "metadata": {},
   "outputs": [
    {
     "name": "stdout",
     "output_type": "stream",
     "text": [
      "Total trainable params: 1315217\n"
     ]
    }
   ],
   "source": [
    "trainable_params = 0\n",
    "\n",
    "for _, params in clf.named_parameters():\n",
    "    trainable_params += params.numel()\n",
    "\n",
    "print(f\"Total trainable params: {trainable_params}\")"
   ]
  },
  {
   "cell_type": "code",
   "execution_count": null,
   "metadata": {},
   "outputs": [],
   "source": []
  }
 ],
 "metadata": {
  "kernelspec": {
   "display_name": "alzheimer",
   "language": "python",
   "name": "python3"
  },
  "language_info": {
   "codemirror_mode": {
    "name": "ipython",
    "version": 3
   },
   "file_extension": ".py",
   "mimetype": "text/x-python",
   "name": "python",
   "nbconvert_exporter": "python",
   "pygments_lexer": "ipython3",
   "version": "3.9.18"
  }
 },
 "nbformat": 4,
 "nbformat_minor": 2
}
