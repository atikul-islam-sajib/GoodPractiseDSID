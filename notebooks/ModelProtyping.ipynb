{
 "cells": [
  {
   "cell_type": "code",
   "execution_count": 1,
   "metadata": {},
   "outputs": [
    {
     "name": "stdout",
     "output_type": "stream",
     "text": [
      "hello\n"
     ]
    }
   ],
   "source": [
    "print(\"hello\")"
   ]
  },
  {
   "cell_type": "code",
   "execution_count": null,
   "metadata": {},
   "outputs": [],
   "source": [
    "!git clone https://github.com/atikul-islam-sajib/GoodPractiseDSID.git\n",
    "\n",
    "%cd /content/GoodPractiseDSID/\n",
    "\n",
    "%pwd\n",
    "\n",
    "!python alzheimer/data/data_loader.py --dataset /content/dataset.zip\n",
    "\n",
    "\n",
    "from alzheimer.features.build_features import FeatureBuilder\n",
    "\n",
    "from alzheimer.data.data_loader import Dataloader\n",
    "\n",
    "loader = Dataloader(\"/content/dataset.zip\")\n",
    "\n",
    "loader.unzip_dataset()\n",
    "\n",
    "build_features = FeatureBuilder()\n",
    "build_features.build_feature()\n",
    "\n",
    "loader.extract_feature()\n",
    "\n",
    "import torch\n",
    "\n",
    "train_loader = torch.load(\"/content/GoodPractiseDSID/data/processed/train_loader.pth\")\n",
    "\n",
    "train = 0\n",
    "\n",
    "for data, label in train_loader:\n",
    "  train = train + data.shape[0]\n",
    "\n",
    "print(train)\n",
    "\n",
    "a = torch.load(\"/content/GoodPractiseDSID/data/processed/test_loader.pth\")\n",
    "len(a)\n",
    "\n",
    "test_loader = torch.load(\"/content/GoodPractiseDSID/data/processed/test_loader.pth\")\n",
    "\n",
    "test = 0\n",
    "\n",
    "for data, label in test_loader:\n",
    "  test = test + data.shape[0]\n",
    "\n",
    "print(test)\n",
    "\n",
    "train + test"
   ]
  },
  {
   "cell_type": "code",
   "execution_count": 2,
   "metadata": {},
   "outputs": [
    {
     "name": "stdout",
     "output_type": "stream",
     "text": [
      "check done\n"
     ]
    }
   ],
   "source": [
    "print(\"check done\")"
   ]
  },
  {
   "cell_type": "code",
   "execution_count": null,
   "metadata": {},
   "outputs": [],
   "source": []
  }
 ],
 "metadata": {
  "kernelspec": {
   "display_name": "alzheimer",
   "language": "python",
   "name": "python3"
  },
  "language_info": {
   "codemirror_mode": {
    "name": "ipython",
    "version": 3
   },
   "file_extension": ".py",
   "mimetype": "text/x-python",
   "name": "python",
   "nbconvert_exporter": "python",
   "pygments_lexer": "ipython3",
   "version": "3.9.18"
  }
 },
 "nbformat": 4,
 "nbformat_minor": 2
}
